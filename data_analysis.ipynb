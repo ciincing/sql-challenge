{
 "cells": [
  {
   "cell_type": "code",
   "execution_count": null,
   "id": "1fe1fddd-47a9-435d-af2f-0fcab38616e1",
   "metadata": {},
   "outputs": [],
   "source": [
    "SELECT employees.emp_no, employees.last_name, employees.first_name, employees.gender, salaries.salary\n",
    "FROM employees\n",
    "JOIN salaries\n",
    "ON employees.emp_no = salaries.emp_no;\n",
    "\n",
    "SELECT first_name, last_name, hire_date \n",
    "FROM employees\n",
    "WHERE hire_date BETWEEN '1986-01-01' AND '1987-01-01';\n",
    "\n",
    "SELECT departments.dept_no, departments.dept_name, dept_manager.emp_no, employees.last_name, employees.first_name, dept_manager.from_date, dept_manager.to_date\n",
    "FROM departments\n",
    "JOIN dept_manager\n",
    "ON departments.dept_no = dept_manager.dept_no\n",
    "JOIN employees\n",
    "ON dept_manager.emp_no = employees.emp_no;\n",
    "\n",
    "SELECT dept_emp.emp_no, employees.last_name, employees.first_name, departments.dept_name\n",
    "FROM dept_emp\n",
    "JOIN employees\n",
    "ON dept_emp.emp_no = employees.emp_no\n",
    "JOIN departments\n",
    "ON dept_emp.dept_no = departments.dept_no;\n",
    "\n",
    "SELECT first_name, last_name\n",
    "FROM employees\n",
    "WHERE first_name = 'Hercules'\n",
    "AND last_name LIKE 'B%';\n",
    "\n",
    "SELECT dept_emp.emp_no, employees.last_name, employees.first_name, departments.dept_name\n",
    "FROM dept_emp\n",
    "JOIN employees\n",
    "ON dept_emp.emp_no = employees.emp_no\n",
    "JOIN departments\n",
    "ON dept_emp.dept_no = departments.dept_no\n",
    "WHERE departments.dept_name = 'Sales';\n",
    "\n",
    "SELECT dept_emp.emp_no, employees.last_name, employees.first_name, departments.dept_name\n",
    "FROM dept_emp\n",
    "JOIN employees\n",
    "ON dept_emp.emp_no = employees.emp_no\n",
    "JOIN departments\n",
    "ON dept_emp.dept_no = departments.dept_no\n",
    "WHERE departments.dept_name = 'Sales' \n",
    "OR departments.dept_name = 'Development';\n",
    "\n",
    "SELECT last_name,\n",
    "COUNT(last_name) AS \"frequency\"\n",
    "FROM employees\n",
    "GROUP BY last_name\n",
    "ORDER BY\n",
    "COUNT(last_name) DESC;"
   ]
  }
 ],
 "metadata": {
  "kernelspec": {
   "display_name": "Python 3 (ipykernel)",
   "language": "python",
   "name": "python3"
  },
  "language_info": {
   "codemirror_mode": {
    "name": "ipython",
    "version": 3
   },
   "file_extension": ".py",
   "mimetype": "text/x-python",
   "name": "python",
   "nbconvert_exporter": "python",
   "pygments_lexer": "ipython3",
   "version": "3.10.9"
  }
 },
 "nbformat": 4,
 "nbformat_minor": 5
}
